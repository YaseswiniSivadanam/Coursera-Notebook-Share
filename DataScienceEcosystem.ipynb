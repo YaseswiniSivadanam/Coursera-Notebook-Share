{
 "cells": [
  {
   "cell_type": "markdown",
   "id": "4efa28bc-37ff-420e-869c-d977451c2270",
   "metadata": {},
   "source": [
    "# Data Science Tools"
   ]
  },
  {
   "cell_type": "markdown",
   "id": "31561b6b-a6ee-42ef-8692-cdace19e94e8",
   "metadata": {},
   "source": [
    "In this Notebook, Data science tools and ecosysytem are summarized."
   ]
  },
  {
   "cell_type": "markdown",
   "id": "56183ad9-0c7a-4115-b9f0-40e37739e7f5",
   "metadata": {},
   "source": [
    "Some of the popular languages that Data Scientists uses are:\n",
    "1. Python\n",
    "2. R\n",
    "3. SQL\n",
    "4. C++\n",
    "5. Java etc..,"
   ]
  },
  {
   "cell_type": "markdown",
   "id": "76fcf20d-3458-4425-bdbe-be6929763305",
   "metadata": {},
   "source": [
    "Some of the commonly used libraries by Data Scientists include:\n",
    "1. TensorFlow\n",
    "2. Numpy\n",
    "3. SciPy\n",
    "4. Pandas\n",
    "5. Matplotlib\n",
    "6. Keras\n",
    "7. SciKit-Learn\n",
    "8. PyTorch etc..,"
   ]
  },
  {
   "cell_type": "markdown",
   "id": "31cb2434-2671-4d06-b777-70c440902629",
   "metadata": {},
   "source": [
    "|Data Science Tools|\n",
    "|---|\n",
    "|SAS|\n",
    "|Apache Hadoop|\n",
    "|TensorFlow|"
   ]
  },
  {
   "cell_type": "markdown",
   "id": "d9c12a56-6b31-4140-9d0b-ce82273ccc7a",
   "metadata": {},
   "source": [
    "### Below are few examles of evaluation of arithmetic Expressions using Python"
   ]
  },
  {
   "cell_type": "code",
   "execution_count": 1,
   "id": "3df07754-9163-4963-a83b-69010335cab8",
   "metadata": {},
   "outputs": [
    {
     "data": {
      "text/plain": [
       "17"
      ]
     },
     "execution_count": 1,
     "metadata": {},
     "output_type": "execute_result"
    }
   ],
   "source": [
    "#This is common aarithmetic Example to multiply and add numbers\n",
    "(3*4)+5"
   ]
  },
  {
   "cell_type": "code",
   "execution_count": 2,
   "id": "8f622962-953a-4f93-b44f-da10f1cf00df",
   "metadata": {},
   "outputs": [
    {
     "data": {
      "text/plain": [
       "3.3333333333333335"
      ]
     },
     "execution_count": 2,
     "metadata": {},
     "output_type": "execute_result"
    }
   ],
   "source": [
    "#This will convert 200 minutes to hours by dividing by 60\n",
    "200/60"
   ]
  },
  {
   "cell_type": "markdown",
   "id": "6547d7ea-27b9-45d3-8422-17a31faa9a6e",
   "metadata": {},
   "source": [
    "__Objective__\n",
    "* List of popular languages for DS\n",
    "* List of popular libraries for DS\n",
    "* List of well-known DS Tools\n",
    "* How to Provide comments in the cell"
   ]
  },
  {
   "cell_type": "markdown",
   "id": "ff968f0a-9e9b-4b29-825b-38a5ef547148",
   "metadata": {},
   "source": [
    "## Author\n",
    "Gaurav Kumar"
   ]
  }
 ],
 "metadata": {
  "kernelspec": {
   "display_name": "Python 3 (ipykernel)",
   "language": "python",
   "name": "python3"
  },
  "language_info": {
   "codemirror_mode": {
    "name": "ipython",
    "version": 3
   },
   "file_extension": ".py",
   "mimetype": "text/x-python",
   "name": "python",
   "nbconvert_exporter": "python",
   "pygments_lexer": "ipython3",
   "version": "3.12.1"
  }
 },
 "nbformat": 4,
 "nbformat_minor": 5
}
